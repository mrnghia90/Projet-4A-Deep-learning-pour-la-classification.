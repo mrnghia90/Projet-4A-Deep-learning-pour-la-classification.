{
 "cells": [
  {
   "cell_type": "code",
   "execution_count": 1,
   "id": "aa527c0d",
   "metadata": {},
   "outputs": [],
   "source": [
    "# Useful libraries\n",
    "%reset -f\n",
    "import numpy as np\n",
    "import pandas as pd\n",
    "import matplotlib.pyplot as plt\n",
    "import tensorflow\n",
    "from tensorflow import keras\n",
    "from tensorflow.keras import layers\n",
    "from tensorflow.keras.preprocessing import image\n",
    "from tensorflow.keras.utils import plot_model\n",
    "from sklearn.model_selection import KFold\n",
    "from tensorflow.keras.callbacks import ModelCheckpoint\n",
    "from tensorflow.keras.callbacks import EarlyStopping\n",
    "from sklearn.model_selection import StratifiedKFold\n",
    "\n",
    "from keras.applications.resnet_v2 import ResNet101V2 as BModel, preprocess_input, decode_predictions"
   ]
  },
  {
   "cell_type": "code",
   "execution_count": 2,
   "id": "1dba56ee",
   "metadata": {},
   "outputs": [],
   "source": [
    "IMG_SIZE = (224,224,3)\n"
   ]
  },
  {
   "cell_type": "code",
   "execution_count": 3,
   "id": "b7d5cade",
   "metadata": {},
   "outputs": [],
   "source": [
    "seed_value= 2022\n",
    "\n",
    "# 1. Set the `PYTHONHASHSEED` environment variable at a fixed value\n",
    "import os\n",
    "os.environ['PYTHONHASHSEED']=str(seed_value)\n",
    "\n",
    "# 2. Set the `python` built-in pseudo-random generator at a fixed value\n",
    "import random\n",
    "random.seed(seed_value)\n",
    "\n",
    "# 3. Set the `numpy` pseudo-random generator at a fixed value\n",
    "import numpy as np\n",
    "np.random.seed(seed_value)\n",
    "\n",
    "# 4. Set the `tensorflow` pseudo-random generator at a fixed value\n",
    "import tensorflow as tf\n",
    "tf.random.set_seed(seed_value)"
   ]
  },
  {
   "cell_type": "code",
   "execution_count": 4,
   "id": "17225dea",
   "metadata": {},
   "outputs": [],
   "source": [
    "# Function to read the images\n",
    "def read_data(img_number_init, img_number_fin):\n",
    "    # access to folder who contain the image of DOS\n",
    "    path = 'DOS\\\\imagesCropees\\\\'\n",
    "    # full path : 'C:\\Users\\Admin\\Documents\\projet_carcasses_Travail_brouillon\\DOS\\imagesCropees\\' 'image' '2' '.jpg'\n",
    "    img = path + 'image'+str(img_number_init)+'.jpg'\n",
    "    img = image.load_img(img, target_size=IMG_SIZE)\n",
    "    x = image.img_to_array(img)\n",
    "    x = np.expand_dims(x, axis=0)\n",
    "    \n",
    "    for i in range(img_number_init+1,img_number_fin+1):\n",
    "        img = path+'image'+str(i)+'.jpg'\n",
    "        img = image.load_img(img, target_size=IMG_SIZE)\n",
    "        xx = image.img_to_array(img)\n",
    "        xx = np.expand_dims(xx, axis=0)\n",
    "        x = np.vstack([x, xx])\n",
    "        \n",
    "    return x"
   ]
  },
  {
   "cell_type": "code",
   "execution_count": 5,
   "id": "45e8f273",
   "metadata": {},
   "outputs": [],
   "source": [
    "# Cleaning data\n",
    "img_removed = [23, 43, 113, 153, 170, 187, 222, 230, 289, 316, 350, 395, 429, 483, 518, 541, 556, 566, 577, 652]\n",
    "# NB : we need to remove the date cause \"misunderstand\" for the training procedures.\n",
    "# Read data\n",
    "nbr = len(img_removed)\n",
    "\n",
    "X = read_data(3, img_removed[0]-1)\n",
    "\n",
    "for i in range(nbr-1):\n",
    "    X = np.vstack([X, read_data(img_removed[i]+1, img_removed[i+1]-1)])\n",
    "\n",
    "# Normalize inputs\n",
    "X = X/255\n",
    "df = pd.read_excel ('classification.xlsx', engine='openpyxl')\n",
    "# transform categorical to numeric\n",
    "df['Conf'].replace(['U','R','O','P'],[0, 1, 2, 3], inplace=True)"
   ]
  },
  {
   "cell_type": "code",
   "execution_count": 6,
   "id": "78a4c1e5",
   "metadata": {},
   "outputs": [],
   "source": [
    "y_all = df['Conf']\n",
    "y_all = np.array(y_all)\n",
    "\n",
    "y = y_all[1:img_removed[0]-1]\n",
    "\n",
    "for i in range(nbr-1):\n",
    "    y = np.hstack([y, y_all[img_removed[i]:img_removed[i+1]-1]])\n",
    "    "
   ]
  },
  {
   "cell_type": "code",
   "execution_count": 7,
   "id": "05985570",
   "metadata": {},
   "outputs": [],
   "source": [
    "# Separation of data in train-validation-test with rate of 60%-20%-20%\n",
    "from sklearn.model_selection import train_test_split\n",
    "\n",
    "X = preprocess_input(X)\n",
    "X_train, X_test, y_train, y_test = train_test_split(X, y, test_size=0.2, shuffle=True, random_state=2)\n",
    "\n",
    "X_train, X_val, y_train, y_val = train_test_split(X_train, y_train, test_size=0.25, random_state=2)"
   ]
  },
  {
   "cell_type": "code",
   "execution_count": 8,
   "id": "f37f433d",
   "metadata": {},
   "outputs": [],
   "source": [
    "def create_model():\n",
    "    \n",
    "    # load the convolutional base model and set layers as not trainable\n",
    "    \n",
    "    base_model = tf.keras.applications.ResNet101V2(input_shape=IMG_SIZE, include_top=False)\n",
    "\n",
    "    for layer in base_model.layers:\n",
    "        layer.trainable = False\n",
    "\n",
    "\n",
    "    # add new classifier layers\n",
    "\n",
    "    x = keras.layers.Flatten()(base_model.layers[-1].output)\n",
    "    x = keras.layers.BatchNormalization()(x)\n",
    "\n",
    "    x = layers.Dense(128, activation='elu', kernel_initializer='he_normal')(x)\n",
    "    x = layers.Dropout(0.6)(x)\n",
    "    x = layers.BatchNormalization()(x)\n",
    "    \n",
    "    x = layers.Dense(64, activation='elu', kernel_initializer='he_normal')(x)\n",
    "    x = layers.Dropout(0.6)(x)\n",
    "    x = layers.BatchNormalization()(x)\n",
    "    \n",
    "\n",
    "    output = layers.Dense(4, activation='softmax')(x)\n",
    "\n",
    "    # define new model, compile and fit\n",
    "    model = tensorflow.keras.Model(inputs=base_model.inputs, outputs=output)\n",
    "    \n",
    "\n",
    "    \n",
    "    model.compile(optimizer='adam', loss='sparse_categorical_crossentropy', metrics=['accuracy'])\n",
    "    \n",
    "    return model"
   ]
  },
  {
   "cell_type": "code",
   "execution_count": 9,
   "id": "47a7ef74",
   "metadata": {
    "scrolled": true
   },
   "outputs": [],
   "source": [
    "# store the trained models in a list\n",
    "\n",
    "callbacks = [\n",
    "    EarlyStopping(monitor = \"val_accuracy\",patience = 20),\n",
    "    ModelCheckpoint(\n",
    "    filepath = 'pretrain_RESNET101V2',\n",
    "    monitor='val_accuracy',\n",
    "    mode='max',\n",
    "    save_best_only=True,\n",
    "    verbose=1)\n",
    "]\n",
    "\n",
    "model = create_model()\n",
    "\n"
   ]
  },
  {
   "cell_type": "code",
   "execution_count": 10,
   "id": "b23b9d2b",
   "metadata": {},
   "outputs": [
    {
     "data": {
      "text/plain": [
       "386"
      ]
     },
     "execution_count": 10,
     "metadata": {},
     "output_type": "execute_result"
    }
   ],
   "source": [
    "len(model.layers)"
   ]
  },
  {
   "cell_type": "code",
   "execution_count": 11,
   "id": "ebc039cf",
   "metadata": {},
   "outputs": [
    {
     "name": "stdout",
     "output_type": "stream",
     "text": [
      "Epoch 1/100\n",
      "6/6 [==============================] - 22s 2s/step - loss: 1.9982 - accuracy: 0.2513 - val_loss: 5.2965 - val_accuracy: 0.4127\n",
      "\n",
      "Epoch 00001: val_accuracy improved from -inf to 0.41270, saving model to pretrain_RESNET101V2\n"
     ]
    },
    {
     "name": "stderr",
     "output_type": "stream",
     "text": [
      "C:\\Users\\tnngo1\\Anaconda3\\envs\\GPU\\lib\\site-packages\\tensorflow\\python\\keras\\utils\\generic_utils.py:494: CustomMaskWarning: Custom mask layers require a config and must override get_config. When loading, the custom mask layer must be passed to the custom_objects argument.\n",
      "  warnings.warn('Custom mask layers require a config and must override '\n"
     ]
    },
    {
     "name": "stdout",
     "output_type": "stream",
     "text": [
      "INFO:tensorflow:Assets written to: pretrain_RESNET101V2\\assets\n",
      "Epoch 2/100\n",
      "6/6 [==============================] - 2s 352ms/step - loss: 1.5982 - accuracy: 0.3545 - val_loss: 5.6521 - val_accuracy: 0.4127\n",
      "\n",
      "Epoch 00002: val_accuracy did not improve from 0.41270\n",
      "Epoch 3/100\n",
      "6/6 [==============================] - 2s 401ms/step - loss: 1.5005 - accuracy: 0.3862 - val_loss: 5.1313 - val_accuracy: 0.4127\n",
      "\n",
      "Epoch 00003: val_accuracy did not improve from 0.41270\n",
      "Epoch 4/100\n",
      "6/6 [==============================] - 2s 411ms/step - loss: 1.4821 - accuracy: 0.3836 - val_loss: 4.4732 - val_accuracy: 0.4127\n",
      "\n",
      "Epoch 00004: val_accuracy did not improve from 0.41270\n",
      "Epoch 5/100\n",
      "6/6 [==============================] - 2s 411ms/step - loss: 1.3747 - accuracy: 0.4180 - val_loss: 3.3532 - val_accuracy: 0.4127\n",
      "\n",
      "Epoch 00005: val_accuracy did not improve from 0.41270\n",
      "Epoch 6/100\n",
      "6/6 [==============================] - 2s 413ms/step - loss: 1.2525 - accuracy: 0.4683 - val_loss: 3.1235 - val_accuracy: 0.4127\n",
      "\n",
      "Epoch 00006: val_accuracy did not improve from 0.41270\n",
      "Epoch 7/100\n",
      "6/6 [==============================] - 2s 407ms/step - loss: 1.3050 - accuracy: 0.4815 - val_loss: 3.1979 - val_accuracy: 0.4127\n",
      "\n",
      "Epoch 00007: val_accuracy did not improve from 0.41270\n",
      "Epoch 8/100\n",
      "6/6 [==============================] - 2s 410ms/step - loss: 1.2240 - accuracy: 0.5026 - val_loss: 3.1921 - val_accuracy: 0.4127\n",
      "\n",
      "Epoch 00008: val_accuracy did not improve from 0.41270\n",
      "Epoch 9/100\n",
      "6/6 [==============================] - 2s 413ms/step - loss: 1.1719 - accuracy: 0.5106 - val_loss: 3.2952 - val_accuracy: 0.4127\n",
      "\n",
      "Epoch 00009: val_accuracy did not improve from 0.41270\n",
      "Epoch 10/100\n",
      "6/6 [==============================] - 2s 415ms/step - loss: 1.0884 - accuracy: 0.5476 - val_loss: 3.4386 - val_accuracy: 0.4127\n",
      "\n",
      "Epoch 00010: val_accuracy did not improve from 0.41270\n",
      "Epoch 11/100\n",
      "6/6 [==============================] - 2s 415ms/step - loss: 0.9819 - accuracy: 0.6032 - val_loss: 3.5871 - val_accuracy: 0.4127\n",
      "\n",
      "Epoch 00011: val_accuracy did not improve from 0.41270\n",
      "Epoch 12/100\n",
      "6/6 [==============================] - 2s 415ms/step - loss: 0.9428 - accuracy: 0.6296 - val_loss: 3.5393 - val_accuracy: 0.4127\n",
      "\n",
      "Epoch 00012: val_accuracy did not improve from 0.41270\n",
      "Epoch 13/100\n",
      "6/6 [==============================] - 2s 416ms/step - loss: 0.8775 - accuracy: 0.6640 - val_loss: 3.2092 - val_accuracy: 0.4127\n",
      "\n",
      "Epoch 00013: val_accuracy did not improve from 0.41270\n",
      "Epoch 14/100\n",
      "6/6 [==============================] - 2s 420ms/step - loss: 0.8584 - accuracy: 0.6905 - val_loss: 3.0080 - val_accuracy: 0.4127\n",
      "\n",
      "Epoch 00014: val_accuracy did not improve from 0.41270\n",
      "Epoch 15/100\n",
      "6/6 [==============================] - 2s 418ms/step - loss: 0.8128 - accuracy: 0.6534 - val_loss: 2.8395 - val_accuracy: 0.4127\n",
      "\n",
      "Epoch 00015: val_accuracy did not improve from 0.41270\n",
      "Epoch 16/100\n",
      "6/6 [==============================] - 2s 410ms/step - loss: 0.7622 - accuracy: 0.7169 - val_loss: 2.5312 - val_accuracy: 0.4127\n",
      "\n",
      "Epoch 00016: val_accuracy did not improve from 0.41270\n",
      "Epoch 17/100\n",
      "6/6 [==============================] - 2s 412ms/step - loss: 0.7116 - accuracy: 0.7407 - val_loss: 2.3832 - val_accuracy: 0.4127\n",
      "\n",
      "Epoch 00017: val_accuracy did not improve from 0.41270\n",
      "Epoch 18/100\n",
      "6/6 [==============================] - 2s 419ms/step - loss: 0.7246 - accuracy: 0.7328 - val_loss: 2.4343 - val_accuracy: 0.4127\n",
      "\n",
      "Epoch 00018: val_accuracy did not improve from 0.41270\n",
      "Epoch 19/100\n",
      "6/6 [==============================] - 2s 419ms/step - loss: 0.6477 - accuracy: 0.7751 - val_loss: 2.7160 - val_accuracy: 0.4286\n",
      "\n",
      "Epoch 00019: val_accuracy improved from 0.41270 to 0.42857, saving model to pretrain_RESNET101V2\n"
     ]
    },
    {
     "name": "stderr",
     "output_type": "stream",
     "text": [
      "C:\\Users\\tnngo1\\Anaconda3\\envs\\GPU\\lib\\site-packages\\tensorflow\\python\\keras\\utils\\generic_utils.py:494: CustomMaskWarning: Custom mask layers require a config and must override get_config. When loading, the custom mask layer must be passed to the custom_objects argument.\n",
      "  warnings.warn('Custom mask layers require a config and must override '\n"
     ]
    },
    {
     "name": "stdout",
     "output_type": "stream",
     "text": [
      "INFO:tensorflow:Assets written to: pretrain_RESNET101V2\\assets\n",
      "Epoch 20/100\n",
      "6/6 [==============================] - 2s 357ms/step - loss: 0.6892 - accuracy: 0.7540 - val_loss: 2.6061 - val_accuracy: 0.4286\n",
      "\n",
      "Epoch 00020: val_accuracy did not improve from 0.42857\n",
      "Epoch 21/100\n",
      "6/6 [==============================] - 2s 366ms/step - loss: 0.5532 - accuracy: 0.8228 - val_loss: 2.2163 - val_accuracy: 0.4286\n",
      "\n",
      "Epoch 00021: val_accuracy did not improve from 0.42857\n",
      "Epoch 22/100\n",
      "6/6 [==============================] - 2s 417ms/step - loss: 0.5385 - accuracy: 0.8148 - val_loss: 2.0205 - val_accuracy: 0.4286\n",
      "\n",
      "Epoch 00022: val_accuracy did not improve from 0.42857\n",
      "Epoch 23/100\n",
      "6/6 [==============================] - 2s 420ms/step - loss: 0.5079 - accuracy: 0.8228 - val_loss: 1.9933 - val_accuracy: 0.4286\n",
      "\n",
      "Epoch 00023: val_accuracy did not improve from 0.42857\n",
      "Epoch 24/100\n",
      "6/6 [==============================] - 2s 417ms/step - loss: 0.4558 - accuracy: 0.8386 - val_loss: 1.7245 - val_accuracy: 0.4444\n",
      "\n",
      "Epoch 00024: val_accuracy improved from 0.42857 to 0.44444, saving model to pretrain_RESNET101V2\n"
     ]
    },
    {
     "name": "stderr",
     "output_type": "stream",
     "text": [
      "C:\\Users\\tnngo1\\Anaconda3\\envs\\GPU\\lib\\site-packages\\tensorflow\\python\\keras\\utils\\generic_utils.py:494: CustomMaskWarning: Custom mask layers require a config and must override get_config. When loading, the custom mask layer must be passed to the custom_objects argument.\n",
      "  warnings.warn('Custom mask layers require a config and must override '\n"
     ]
    },
    {
     "name": "stdout",
     "output_type": "stream",
     "text": [
      "INFO:tensorflow:Assets written to: pretrain_RESNET101V2\\assets\n",
      "Epoch 25/100\n",
      "6/6 [==============================] - 2s 363ms/step - loss: 0.4240 - accuracy: 0.8545 - val_loss: 1.8565 - val_accuracy: 0.4444\n",
      "\n",
      "Epoch 00025: val_accuracy did not improve from 0.44444\n",
      "Epoch 26/100\n",
      "6/6 [==============================] - 2s 415ms/step - loss: 0.3637 - accuracy: 0.8915 - val_loss: 2.0597 - val_accuracy: 0.4286\n",
      "\n",
      "Epoch 00026: val_accuracy did not improve from 0.44444\n",
      "Epoch 27/100\n",
      "6/6 [==============================] - 2s 418ms/step - loss: 0.3997 - accuracy: 0.8519 - val_loss: 1.8205 - val_accuracy: 0.4524\n",
      "\n",
      "Epoch 00027: val_accuracy improved from 0.44444 to 0.45238, saving model to pretrain_RESNET101V2\n"
     ]
    },
    {
     "name": "stderr",
     "output_type": "stream",
     "text": [
      "C:\\Users\\tnngo1\\Anaconda3\\envs\\GPU\\lib\\site-packages\\tensorflow\\python\\keras\\utils\\generic_utils.py:494: CustomMaskWarning: Custom mask layers require a config and must override get_config. When loading, the custom mask layer must be passed to the custom_objects argument.\n",
      "  warnings.warn('Custom mask layers require a config and must override '\n"
     ]
    },
    {
     "name": "stdout",
     "output_type": "stream",
     "text": [
      "INFO:tensorflow:Assets written to: pretrain_RESNET101V2\\assets\n",
      "Epoch 28/100\n",
      "6/6 [==============================] - 2s 347ms/step - loss: 0.3218 - accuracy: 0.8862 - val_loss: 1.8420 - val_accuracy: 0.4524\n",
      "\n",
      "Epoch 00028: val_accuracy did not improve from 0.45238\n",
      "Epoch 29/100\n",
      "6/6 [==============================] - 2s 390ms/step - loss: 0.3666 - accuracy: 0.8836 - val_loss: 1.6792 - val_accuracy: 0.4524\n",
      "\n",
      "Epoch 00029: val_accuracy did not improve from 0.45238\n",
      "Epoch 30/100\n",
      "6/6 [==============================] - 2s 408ms/step - loss: 0.3246 - accuracy: 0.9074 - val_loss: 1.4896 - val_accuracy: 0.4841\n",
      "\n",
      "Epoch 00030: val_accuracy improved from 0.45238 to 0.48413, saving model to pretrain_RESNET101V2\n"
     ]
    },
    {
     "name": "stderr",
     "output_type": "stream",
     "text": [
      "C:\\Users\\tnngo1\\Anaconda3\\envs\\GPU\\lib\\site-packages\\tensorflow\\python\\keras\\utils\\generic_utils.py:494: CustomMaskWarning: Custom mask layers require a config and must override get_config. When loading, the custom mask layer must be passed to the custom_objects argument.\n",
      "  warnings.warn('Custom mask layers require a config and must override '\n"
     ]
    },
    {
     "name": "stdout",
     "output_type": "stream",
     "text": [
      "INFO:tensorflow:Assets written to: pretrain_RESNET101V2\\assets\n",
      "Epoch 31/100\n",
      "6/6 [==============================] - 2s 360ms/step - loss: 0.2743 - accuracy: 0.9233 - val_loss: 1.5366 - val_accuracy: 0.4921\n",
      "\n",
      "Epoch 00031: val_accuracy improved from 0.48413 to 0.49206, saving model to pretrain_RESNET101V2\n"
     ]
    },
    {
     "name": "stderr",
     "output_type": "stream",
     "text": [
      "C:\\Users\\tnngo1\\Anaconda3\\envs\\GPU\\lib\\site-packages\\tensorflow\\python\\keras\\utils\\generic_utils.py:494: CustomMaskWarning: Custom mask layers require a config and must override get_config. When loading, the custom mask layer must be passed to the custom_objects argument.\n",
      "  warnings.warn('Custom mask layers require a config and must override '\n"
     ]
    },
    {
     "name": "stdout",
     "output_type": "stream",
     "text": [
      "INFO:tensorflow:Assets written to: pretrain_RESNET101V2\\assets\n",
      "Epoch 32/100\n",
      "6/6 [==============================] - 2s 381ms/step - loss: 0.2880 - accuracy: 0.9127 - val_loss: 1.4274 - val_accuracy: 0.5238\n",
      "\n",
      "Epoch 00032: val_accuracy improved from 0.49206 to 0.52381, saving model to pretrain_RESNET101V2\n"
     ]
    },
    {
     "name": "stderr",
     "output_type": "stream",
     "text": [
      "C:\\Users\\tnngo1\\Anaconda3\\envs\\GPU\\lib\\site-packages\\tensorflow\\python\\keras\\utils\\generic_utils.py:494: CustomMaskWarning: Custom mask layers require a config and must override get_config. When loading, the custom mask layer must be passed to the custom_objects argument.\n",
      "  warnings.warn('Custom mask layers require a config and must override '\n"
     ]
    },
    {
     "name": "stdout",
     "output_type": "stream",
     "text": [
      "INFO:tensorflow:Assets written to: pretrain_RESNET101V2\\assets\n",
      "Epoch 33/100\n",
      "6/6 [==============================] - 2s 399ms/step - loss: 0.2880 - accuracy: 0.9074 - val_loss: 1.6995 - val_accuracy: 0.4762\n",
      "\n",
      "Epoch 00033: val_accuracy did not improve from 0.52381\n",
      "Epoch 34/100\n",
      "6/6 [==============================] - 2s 417ms/step - loss: 0.2739 - accuracy: 0.9180 - val_loss: 1.7157 - val_accuracy: 0.5000\n",
      "\n",
      "Epoch 00034: val_accuracy did not improve from 0.52381\n",
      "Epoch 35/100\n",
      "6/6 [==============================] - 2s 413ms/step - loss: 0.2494 - accuracy: 0.9206 - val_loss: 1.6539 - val_accuracy: 0.5079\n",
      "\n",
      "Epoch 00035: val_accuracy did not improve from 0.52381\n",
      "Epoch 36/100\n",
      "6/6 [==============================] - 2s 409ms/step - loss: 0.2398 - accuracy: 0.9365 - val_loss: 1.5049 - val_accuracy: 0.5476\n",
      "\n",
      "Epoch 00036: val_accuracy improved from 0.52381 to 0.54762, saving model to pretrain_RESNET101V2\n"
     ]
    },
    {
     "name": "stderr",
     "output_type": "stream",
     "text": [
      "C:\\Users\\tnngo1\\Anaconda3\\envs\\GPU\\lib\\site-packages\\tensorflow\\python\\keras\\utils\\generic_utils.py:494: CustomMaskWarning: Custom mask layers require a config and must override get_config. When loading, the custom mask layer must be passed to the custom_objects argument.\n",
      "  warnings.warn('Custom mask layers require a config and must override '\n"
     ]
    },
    {
     "name": "stdout",
     "output_type": "stream",
     "text": [
      "INFO:tensorflow:Assets written to: pretrain_RESNET101V2\\assets\n",
      "Epoch 37/100\n",
      "6/6 [==============================] - 2s 348ms/step - loss: 0.2344 - accuracy: 0.9365 - val_loss: 1.4859 - val_accuracy: 0.5556\n",
      "\n",
      "Epoch 00037: val_accuracy improved from 0.54762 to 0.55556, saving model to pretrain_RESNET101V2\n"
     ]
    },
    {
     "name": "stderr",
     "output_type": "stream",
     "text": [
      "C:\\Users\\tnngo1\\Anaconda3\\envs\\GPU\\lib\\site-packages\\tensorflow\\python\\keras\\utils\\generic_utils.py:494: CustomMaskWarning: Custom mask layers require a config and must override get_config. When loading, the custom mask layer must be passed to the custom_objects argument.\n",
      "  warnings.warn('Custom mask layers require a config and must override '\n"
     ]
    },
    {
     "name": "stdout",
     "output_type": "stream",
     "text": [
      "INFO:tensorflow:Assets written to: pretrain_RESNET101V2\\assets\n",
      "Epoch 38/100\n",
      "6/6 [==============================] - 2s 357ms/step - loss: 0.2115 - accuracy: 0.9497 - val_loss: 1.3694 - val_accuracy: 0.5714\n",
      "\n",
      "Epoch 00038: val_accuracy improved from 0.55556 to 0.57143, saving model to pretrain_RESNET101V2\n"
     ]
    },
    {
     "name": "stderr",
     "output_type": "stream",
     "text": [
      "C:\\Users\\tnngo1\\Anaconda3\\envs\\GPU\\lib\\site-packages\\tensorflow\\python\\keras\\utils\\generic_utils.py:494: CustomMaskWarning: Custom mask layers require a config and must override get_config. When loading, the custom mask layer must be passed to the custom_objects argument.\n",
      "  warnings.warn('Custom mask layers require a config and must override '\n"
     ]
    },
    {
     "name": "stdout",
     "output_type": "stream",
     "text": [
      "INFO:tensorflow:Assets written to: pretrain_RESNET101V2\\assets\n",
      "Epoch 39/100\n",
      "6/6 [==============================] - 2s 355ms/step - loss: 0.1981 - accuracy: 0.9471 - val_loss: 1.4158 - val_accuracy: 0.5952\n",
      "\n",
      "Epoch 00039: val_accuracy improved from 0.57143 to 0.59524, saving model to pretrain_RESNET101V2\n"
     ]
    },
    {
     "name": "stderr",
     "output_type": "stream",
     "text": [
      "C:\\Users\\tnngo1\\Anaconda3\\envs\\GPU\\lib\\site-packages\\tensorflow\\python\\keras\\utils\\generic_utils.py:494: CustomMaskWarning: Custom mask layers require a config and must override get_config. When loading, the custom mask layer must be passed to the custom_objects argument.\n",
      "  warnings.warn('Custom mask layers require a config and must override '\n"
     ]
    },
    {
     "name": "stdout",
     "output_type": "stream",
     "text": [
      "INFO:tensorflow:Assets written to: pretrain_RESNET101V2\\assets\n",
      "Epoch 40/100\n",
      "6/6 [==============================] - 2s 383ms/step - loss: 0.2378 - accuracy: 0.9286 - val_loss: 1.3740 - val_accuracy: 0.5952\n",
      "\n",
      "Epoch 00040: val_accuracy did not improve from 0.59524\n",
      "Epoch 41/100\n",
      "6/6 [==============================] - 2s 417ms/step - loss: 0.1987 - accuracy: 0.9444 - val_loss: 1.2606 - val_accuracy: 0.6032\n",
      "\n",
      "Epoch 00041: val_accuracy improved from 0.59524 to 0.60317, saving model to pretrain_RESNET101V2\n"
     ]
    },
    {
     "name": "stderr",
     "output_type": "stream",
     "text": [
      "C:\\Users\\tnngo1\\Anaconda3\\envs\\GPU\\lib\\site-packages\\tensorflow\\python\\keras\\utils\\generic_utils.py:494: CustomMaskWarning: Custom mask layers require a config and must override get_config. When loading, the custom mask layer must be passed to the custom_objects argument.\n",
      "  warnings.warn('Custom mask layers require a config and must override '\n"
     ]
    },
    {
     "name": "stdout",
     "output_type": "stream",
     "text": [
      "INFO:tensorflow:Assets written to: pretrain_RESNET101V2\\assets\n",
      "Epoch 42/100\n",
      "6/6 [==============================] - 2s 370ms/step - loss: 0.1718 - accuracy: 0.9550 - val_loss: 1.2885 - val_accuracy: 0.5873\n",
      "\n",
      "Epoch 00042: val_accuracy did not improve from 0.60317\n",
      "Epoch 43/100\n",
      "6/6 [==============================] - 2s 418ms/step - loss: 0.1851 - accuracy: 0.9365 - val_loss: 1.5926 - val_accuracy: 0.5397\n",
      "\n",
      "Epoch 00043: val_accuracy did not improve from 0.60317\n",
      "Epoch 44/100\n",
      "6/6 [==============================] - 2s 418ms/step - loss: 0.1816 - accuracy: 0.9471 - val_loss: 1.4738 - val_accuracy: 0.5794\n",
      "\n",
      "Epoch 00044: val_accuracy did not improve from 0.60317\n",
      "Epoch 45/100\n",
      "6/6 [==============================] - 2s 424ms/step - loss: 0.1780 - accuracy: 0.9418 - val_loss: 1.2789 - val_accuracy: 0.5952\n",
      "\n",
      "Epoch 00045: val_accuracy did not improve from 0.60317\n",
      "Epoch 46/100\n",
      "6/6 [==============================] - 2s 410ms/step - loss: 0.1740 - accuracy: 0.9392 - val_loss: 1.4244 - val_accuracy: 0.5873\n",
      "\n",
      "Epoch 00046: val_accuracy did not improve from 0.60317\n",
      "Epoch 47/100\n",
      "6/6 [==============================] - 2s 426ms/step - loss: 0.1828 - accuracy: 0.9550 - val_loss: 1.4218 - val_accuracy: 0.5952\n",
      "\n",
      "Epoch 00047: val_accuracy did not improve from 0.60317\n",
      "Epoch 48/100\n",
      "6/6 [==============================] - 2s 430ms/step - loss: 0.1716 - accuracy: 0.9471 - val_loss: 1.3230 - val_accuracy: 0.5873\n",
      "\n",
      "Epoch 00048: val_accuracy did not improve from 0.60317\n",
      "Epoch 49/100\n",
      "6/6 [==============================] - 2s 414ms/step - loss: 0.1439 - accuracy: 0.9656 - val_loss: 1.2177 - val_accuracy: 0.6032\n",
      "\n",
      "Epoch 00049: val_accuracy did not improve from 0.60317\n",
      "Epoch 50/100\n",
      "6/6 [==============================] - 2s 423ms/step - loss: 0.1690 - accuracy: 0.9497 - val_loss: 1.1929 - val_accuracy: 0.6111\n",
      "\n",
      "Epoch 00050: val_accuracy improved from 0.60317 to 0.61111, saving model to pretrain_RESNET101V2\n"
     ]
    },
    {
     "name": "stderr",
     "output_type": "stream",
     "text": [
      "C:\\Users\\tnngo1\\Anaconda3\\envs\\GPU\\lib\\site-packages\\tensorflow\\python\\keras\\utils\\generic_utils.py:494: CustomMaskWarning: Custom mask layers require a config and must override get_config. When loading, the custom mask layer must be passed to the custom_objects argument.\n",
      "  warnings.warn('Custom mask layers require a config and must override '\n"
     ]
    },
    {
     "name": "stdout",
     "output_type": "stream",
     "text": [
      "INFO:tensorflow:Assets written to: pretrain_RESNET101V2\\assets\n",
      "Epoch 51/100\n",
      "6/6 [==============================] - 3s 397ms/step - loss: 0.1246 - accuracy: 0.9683 - val_loss: 1.1785 - val_accuracy: 0.6667\n",
      "\n",
      "Epoch 00051: val_accuracy improved from 0.61111 to 0.66667, saving model to pretrain_RESNET101V2\n"
     ]
    },
    {
     "name": "stderr",
     "output_type": "stream",
     "text": [
      "C:\\Users\\tnngo1\\Anaconda3\\envs\\GPU\\lib\\site-packages\\tensorflow\\python\\keras\\utils\\generic_utils.py:494: CustomMaskWarning: Custom mask layers require a config and must override get_config. When loading, the custom mask layer must be passed to the custom_objects argument.\n",
      "  warnings.warn('Custom mask layers require a config and must override '\n"
     ]
    },
    {
     "name": "stdout",
     "output_type": "stream",
     "text": [
      "INFO:tensorflow:Assets written to: pretrain_RESNET101V2\\assets\n",
      "Epoch 52/100\n",
      "6/6 [==============================] - 2s 364ms/step - loss: 0.1319 - accuracy: 0.9683 - val_loss: 1.2458 - val_accuracy: 0.6270\n",
      "\n",
      "Epoch 00052: val_accuracy did not improve from 0.66667\n",
      "Epoch 53/100\n",
      "6/6 [==============================] - 2s 411ms/step - loss: 0.1016 - accuracy: 0.9788 - val_loss: 1.2511 - val_accuracy: 0.6111\n",
      "\n",
      "Epoch 00053: val_accuracy did not improve from 0.66667\n",
      "Epoch 54/100\n",
      "6/6 [==============================] - 2s 414ms/step - loss: 0.1160 - accuracy: 0.9656 - val_loss: 1.2984 - val_accuracy: 0.6190\n",
      "\n",
      "Epoch 00054: val_accuracy did not improve from 0.66667\n",
      "Epoch 55/100\n",
      "6/6 [==============================] - 2s 416ms/step - loss: 0.0815 - accuracy: 0.9868 - val_loss: 1.3766 - val_accuracy: 0.6190\n",
      "\n",
      "Epoch 00055: val_accuracy did not improve from 0.66667\n",
      "Epoch 56/100\n",
      "6/6 [==============================] - 2s 417ms/step - loss: 0.1305 - accuracy: 0.9603 - val_loss: 1.3314 - val_accuracy: 0.6349\n",
      "\n",
      "Epoch 00056: val_accuracy did not improve from 0.66667\n",
      "Epoch 57/100\n",
      "6/6 [==============================] - 2s 419ms/step - loss: 0.1063 - accuracy: 0.9841 - val_loss: 1.3103 - val_accuracy: 0.6270\n",
      "\n",
      "Epoch 00057: val_accuracy did not improve from 0.66667\n",
      "Epoch 58/100\n",
      "6/6 [==============================] - 2s 419ms/step - loss: 0.1015 - accuracy: 0.9630 - val_loss: 1.2689 - val_accuracy: 0.6429\n",
      "\n",
      "Epoch 00058: val_accuracy did not improve from 0.66667\n",
      "Epoch 59/100\n",
      "6/6 [==============================] - 2s 417ms/step - loss: 0.1136 - accuracy: 0.9709 - val_loss: 1.2835 - val_accuracy: 0.6508\n",
      "\n",
      "Epoch 00059: val_accuracy did not improve from 0.66667\n",
      "Epoch 60/100\n",
      "6/6 [==============================] - 2s 417ms/step - loss: 0.0922 - accuracy: 0.9762 - val_loss: 1.3341 - val_accuracy: 0.6270\n",
      "\n",
      "Epoch 00060: val_accuracy did not improve from 0.66667\n",
      "Epoch 61/100\n",
      "6/6 [==============================] - 2s 417ms/step - loss: 0.0884 - accuracy: 0.9815 - val_loss: 1.3304 - val_accuracy: 0.6270\n",
      "\n",
      "Epoch 00061: val_accuracy did not improve from 0.66667\n",
      "Epoch 62/100\n",
      "6/6 [==============================] - 2s 418ms/step - loss: 0.0818 - accuracy: 0.9868 - val_loss: 1.2985 - val_accuracy: 0.6270\n",
      "\n",
      "Epoch 00062: val_accuracy did not improve from 0.66667\n",
      "Epoch 63/100\n",
      "6/6 [==============================] - 2s 425ms/step - loss: 0.0714 - accuracy: 0.9815 - val_loss: 1.3543 - val_accuracy: 0.6349\n",
      "\n",
      "Epoch 00063: val_accuracy did not improve from 0.66667\n",
      "Epoch 64/100\n",
      "6/6 [==============================] - 2s 423ms/step - loss: 0.0811 - accuracy: 0.9841 - val_loss: 1.4188 - val_accuracy: 0.6429\n",
      "\n",
      "Epoch 00064: val_accuracy did not improve from 0.66667\n",
      "Epoch 65/100\n",
      "6/6 [==============================] - 2s 426ms/step - loss: 0.0829 - accuracy: 0.9762 - val_loss: 1.3664 - val_accuracy: 0.6429\n",
      "\n",
      "Epoch 00065: val_accuracy did not improve from 0.66667\n",
      "Epoch 66/100\n",
      "6/6 [==============================] - 2s 425ms/step - loss: 0.0919 - accuracy: 0.9709 - val_loss: 1.3600 - val_accuracy: 0.6270\n",
      "\n",
      "Epoch 00066: val_accuracy did not improve from 0.66667\n",
      "Epoch 67/100\n",
      "6/6 [==============================] - 2s 423ms/step - loss: 0.0807 - accuracy: 0.9709 - val_loss: 1.3748 - val_accuracy: 0.6349\n",
      "\n",
      "Epoch 00067: val_accuracy did not improve from 0.66667\n",
      "Epoch 68/100\n",
      "6/6 [==============================] - 2s 430ms/step - loss: 0.0684 - accuracy: 0.9841 - val_loss: 1.3639 - val_accuracy: 0.6190\n",
      "\n",
      "Epoch 00068: val_accuracy did not improve from 0.66667\n",
      "Epoch 69/100\n",
      "6/6 [==============================] - 2s 427ms/step - loss: 0.0753 - accuracy: 0.9735 - val_loss: 1.3753 - val_accuracy: 0.6429\n",
      "\n",
      "Epoch 00069: val_accuracy did not improve from 0.66667\n",
      "Epoch 70/100\n",
      "6/6 [==============================] - 2s 428ms/step - loss: 0.0797 - accuracy: 0.9815 - val_loss: 1.3584 - val_accuracy: 0.6032\n",
      "\n",
      "Epoch 00070: val_accuracy did not improve from 0.66667\n",
      "Epoch 71/100\n",
      "6/6 [==============================] - 2s 427ms/step - loss: 0.0776 - accuracy: 0.9735 - val_loss: 1.4187 - val_accuracy: 0.5873\n",
      "\n",
      "Epoch 00071: val_accuracy did not improve from 0.66667\n",
      "*************************\n",
      "Training next model\n",
      "*************************\n"
     ]
    }
   ],
   "source": [
    "# Trains the model\n",
    "history=model.fit(X_train,y_train,epochs=100, batch_size = 64,\n",
    "               callbacks=callbacks,\n",
    "               validation_data = (X_val,y_val))\n",
    "print('*************************')\n",
    "print('Training next model')\n",
    "print('*************************')"
   ]
  },
  {
   "cell_type": "code",
   "execution_count": 12,
   "id": "21cec0fd",
   "metadata": {},
   "outputs": [
    {
     "data": {
      "image/png": "[encoded data removed]",
      "text/plain": [
       "<Figure size 432x288 with 1 Axes>"
      ]
     },
     "metadata": {
      "needs_background": "light"
     },
     "output_type": "display_data"
    },
    {
     "data": {
      "image/png": "[encoded data removed]",
      "text/plain": [
       "<Figure size 432x288 with 1 Axes>"
      ]
     },
     "metadata": {
      "needs_background": "light"
     },
     "output_type": "display_data"
    },
    {
     "data": {
      "image/png": "[encoded data removed]",
      "text/plain": [
       "<Figure size 432x288 with 1 Axes>"
      ]
     },
     "metadata": {
      "needs_background": "light"
     },
     "output_type": "display_data"
    },
    {
     "data": {
      "image/png": "[encoded data removed]",
      "text/plain": [
       "<Figure size 432x288 with 1 Axes>"
      ]
     },
     "metadata": {
      "needs_background": "light"
     },
     "output_type": "display_data"
    },
    {
     "data": {
      "image/png": "[encoded data removed]",
      "text/plain": [
       "<Figure size 432x288 with 1 Axes>"
      ]
     },
     "metadata": {
      "needs_background": "light"
     },
     "output_type": "display_data"
    }
   ],
   "source": [
    "# Displaying curves of loss and accuracy during training\n",
    "\n",
    "for i in range(5):\n",
    "    acc = history.history[\"accuracy\"]\n",
    "    val_acc = history.history[\"val_accuracy\"]\n",
    "    loss = history.history[\"loss\"]\n",
    "    val_loss = history.history[\"val_loss\"]\n",
    "    epochs = range(1, len(acc) + 1)\n",
    "    plt.plot(epochs, acc, \"bo\", label=\"Training accuracy\")\n",
    "    plt.plot(epochs, val_acc, \"b\", label=\"Validation accuracy\")\n",
    "    plt.title(\"Training and validation accuracy\")\n",
    "    plt.legend()\n",
    "    plt.show()"
   ]
  },
  {
   "cell_type": "code",
   "execution_count": 13,
   "id": "ad08729f",
   "metadata": {},
   "outputs": [
    {
     "name": "stdout",
     "output_type": "stream",
     "text": [
      "4/4 [==============================] - 4s 786ms/step - loss: 1.2888 - accuracy: 0.7063\n"
     ]
    },
    {
     "data": {
      "text/plain": [
       "[1.2887567281723022, 0.7063491940498352]"
      ]
     },
     "execution_count": 13,
     "metadata": {},
     "output_type": "execute_result"
    }
   ],
   "source": [
    "model.evaluate(X_test,y_test)"
   ]
  }
 ],
 "metadata": {
  "kernelspec": {
   "display_name": "Python 3 (ipykernel)",
   "language": "python",
   "name": "python3"
  },
  "language_info": {
   "codemirror_mode": {
    "name": "ipython",
    "version": 3
   },
   "file_extension": ".py",
   "mimetype": "text/x-python",
   "name": "python",
   "nbconvert_exporter": "python",
   "pygments_lexer": "ipython3",
   "version": "3.9.7"
  }
 },
 "nbformat": 4,
 "nbformat_minor": 5
}
